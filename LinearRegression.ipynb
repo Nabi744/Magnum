{
 "cells": [
  {
   "metadata": {},
   "cell_type": "markdown",
   "source": "# Linear Regression",
   "id": "407d96733b06a56"
  },
  {
   "metadata": {},
   "cell_type": "markdown",
   "source": [
    "## Regression model\n",
    "Weight: W  \n",
    "Bias: b  \n",
    "$f(x)=Wx+b$  "
   ],
   "id": "f817a4eb8971a7d1"
  },
  {
   "metadata": {},
   "cell_type": "markdown",
   "source": [
    "## Loss function  \n",
    "Also known as objective function or cost function.  \n",
    "Loss function measures how well the model is performing.  \n",
    "\n",
    "$Loss(W,b)=\\frac{1}{n}\\Sigma_{i=1}^{n} (f(x_i)-y_i)^2$"
   ],
   "id": "dc91b35eddfdfe69"
  },
  {
   "metadata": {},
   "cell_type": "code",
   "outputs": [],
   "execution_count": null,
   "source": "",
   "id": "875c61ad0a90f2cb"
  },
  {
   "cell_type": "code",
   "execution_count": null,
   "id": "initial_id",
   "metadata": {
    "collapsed": true
   },
   "outputs": [],
   "source": " "
  }
 ],
 "metadata": {
  "kernelspec": {
   "display_name": "Python 3",
   "language": "python",
   "name": "python3"
  },
  "language_info": {
   "codemirror_mode": {
    "name": "ipython",
    "version": 2
   },
   "file_extension": ".py",
   "mimetype": "text/x-python",
   "name": "python",
   "nbconvert_exporter": "python",
   "pygments_lexer": "ipython2",
   "version": "2.7.6"
  }
 },
 "nbformat": 4,
 "nbformat_minor": 5
}
