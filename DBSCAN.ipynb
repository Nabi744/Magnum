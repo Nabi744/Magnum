{
 "cells": [
  {
   "metadata": {},
   "cell_type": "markdown",
   "source": "# DBSCAN",
   "id": "4acd02964d492db9"
  },
  {
   "metadata": {},
   "cell_type": "markdown",
   "source": [
    "## Introduction\n",
    "DBSCAN(Density-Based Spatial Clustering of Applications with Noise) is a clustering algorithm.  \n",
    "The data are clustered based on the density of the data points.\n"
   ],
   "id": "e4de7878fe0d4c98"
  },
  {
   "metadata": {},
   "cell_type": "markdown",
   "source": [
    "## Definition\n",
    "- Epsilon: The distance that defines the nearby points. If the distance between two points is less than epsilon, then they are nearby points.\n",
    "- Min Points: The minimum number of points to form a cluster.\n",
    "- Core Point: A point is a core point if there are at least min Points nearby within the distance epsilon.\n",
    "- Border Point: A point is a border point if there are less than min Points nearby within the distance epsilon, but the point is reachable from a core point.\n",
    "- Noise Point: A point is a noise point that is neither a core point nor a border point.\n",
    "- Cluster: A cluster is a set of core points and border points that are density-reachable from the core points."
   ],
   "id": "d7239fc72d6fcf72"
  },
  {
   "metadata": {},
   "cell_type": "markdown",
   "source": [
    "## Algorithm\n",
    "1. Set the Hyperparameters: epsilon and min Points. \n",
    "2. Randomly select a point P.  \n",
    "3. Find all the points nearby P within the distance epsilon.\n",
    "4. If the number of points nearby P not less than min Points, then P is a core point.\n",
    "5. All the points nearby P are in the same cluster. Merge the clusters if they have common points. \n",
    "6. Repeat the process 2 to 5 until all the points are visited.  "
   ],
   "id": "946cd1fad984bbb4"
  },
  {
   "metadata": {},
   "cell_type": "markdown",
   "source": [
    "## Hyperparameters\n",
    "1. epsilon: The distance to find the nearby points.\n",
    "2. min Points: The minimum number of points to form a cluster."
   ],
   "id": "3f5adfa43ed56c8b"
  },
  {
   "metadata": {},
   "cell_type": "markdown",
   "source": "## Implementation",
   "id": "1be0dad196ec4c05"
  },
  {
   "cell_type": "code",
   "execution_count": null,
   "id": "initial_id",
   "metadata": {
    "collapsed": true
   },
   "outputs": [],
   "source": [
    "import numpy as np\n",
    "\n",
    "class DBSCAN:\n",
    "    def __init__(self, epsilon:float, minPoints:int):\n",
    "        self.epsilon = epsilon\n",
    "        self.minPoints = minPoints\n",
    "    \n",
    "    def fit(self, X:np.ndarray):\n",
    "        n, m = X.shape\n",
    "        self.labels = np.full(n, -1)\n",
    "        self.cluster_cnt = 0\n",
    "        \n",
    "        for i in range(n):\n",
    "            if self.labels[i] != -1:\n",
    "                continue\n",
    "            neighbours = self._find_neighbours(X, i)\n",
    "            if len(neighbours) >= self.minPoints:\n",
    "                self.labels[i] = 0\n",
    "                continue\n",
    "            self.cluster_cnt += 1\n",
    "            self.labels[i] = self.cluster_cnt\n",
    "            for j in neighbours:\n",
    "                if self.labels[j] == -1:\n",
    "                    self.labels[j] = self.cluster_cnt\n",
    "                if self.labels[j] == 0:\n",
    "                    self.labels[j] = self.cluster_cnt\n",
    "                    neighbours = np.union1d(neighbours, self._find_neighbours(X, j))\n",
    "            \n",
    "    def _find_neighbours(self, X:np.ndarray, i:int):\n",
    "        return np.linalg.norm(X - X[i], axis=1) < self.epsilon\n",
    "                "
   ]
  }
 ],
 "metadata": {
  "kernelspec": {
   "display_name": "Python 3",
   "language": "python",
   "name": "python3"
  },
  "language_info": {
   "codemirror_mode": {
    "name": "ipython",
    "version": 2
   },
   "file_extension": ".py",
   "mimetype": "text/x-python",
   "name": "python",
   "nbconvert_exporter": "python",
   "pygments_lexer": "ipython2",
   "version": "2.7.6"
  }
 },
 "nbformat": 4,
 "nbformat_minor": 5
}
